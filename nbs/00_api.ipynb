{
 "cells": [
  {
   "cell_type": "code",
   "execution_count": null,
   "id": "ea3fbb91",
   "metadata": {},
   "outputs": [],
   "source": [
    "#| default_exp api"
   ]
  },
  {
   "cell_type": "code",
   "execution_count": null,
   "id": "aa7cf672",
   "metadata": {},
   "outputs": [],
   "source": []
  },
  {
   "cell_type": "code",
   "execution_count": null,
   "id": "1f17f241",
   "metadata": {},
   "outputs": [],
   "source": [
    "#| hide \n",
    "from nbdev.showdoc import *"
   ]
  },
  {
   "cell_type": "code",
   "execution_count": null,
   "id": "d791788b",
   "metadata": {},
   "outputs": [],
   "source": [
    "#| export\n",
    "from abc import abstractmethod\n",
    "import wolframalpha\n",
    "from langchain import PromptTemplate\n",
    "class BaseApI:\n",
    "    def __init__(self,\n",
    "                 name: str, # the name of API CALL\n",
    "                 prompt_template:PromptTemplate,\n",
    "                 sampling_threshold: float=0.2,\n",
    "                 filtering_threshold: float=0.2):\n",
    "        self.name=name \n",
    "        self.prompt_template=prompt_template \n",
    "        self.sampling_threshold=sampling_threshold \n",
    "        self.filtering_threshold=filtering_threshold \n",
    "\n",
    "    @abstractmethod\n",
    "    def execute(self):\n",
    "        pass\n",
    "    def __call__(self,*args:str,**kargs:str) -> str:\n",
    "        output=self.execute(*args,**kargs)\n",
    "        return str(output)"
   ]
  },
  {
   "cell_type": "code",
   "execution_count": null,
   "id": "fe49c16b",
   "metadata": {},
   "outputs": [],
   "source": [
    "#| export\n",
    "class CalcuatorAPI(BaseApI):\n",
    "    def execute(self,input:str)->str:\n",
    "        try:\n",
    "            return eval(input)\n",
    "        except:\n",
    "            return \"\""
   ]
  },
  {
   "cell_type": "code",
   "execution_count": null,
   "id": "63ab78d0",
   "metadata": {},
   "outputs": [],
   "source": [
    "#| export\n",
    "class WolframeAPI(BaseApI):\n",
    "    def __init__(self,*args,api_key:str,**kargs):\n",
    "        super().__init__(*args,**kargs)\n",
    "        #self.api_key=api_key\n",
    "        self.api_key=\"4QR5HP-A8KLX2RG35\"\n",
    "    def execute(self,input:str)->str:\n",
    "        client=wolframalpha.Client(self.api_key)\n",
    "        res=client.query(input=input)\n",
    "        return next(res.results).text"
   ]
  }
 ],
 "metadata": {
  "kernelspec": {
   "display_name": "myenv",
   "language": "python",
   "name": "python3"
  },
  "language_info": {
   "name": "python",
   "version": "3.9.19"
  }
 },
 "nbformat": 4,
 "nbformat_minor": 5
}

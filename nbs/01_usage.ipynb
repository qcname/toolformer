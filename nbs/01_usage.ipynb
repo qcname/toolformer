{
 "cells": [
  {
   "cell_type": "markdown",
   "id": "e7f4ee68",
   "metadata": {},
   "source": [
    "# usage\n",
    "> test"
   ]
  },
  {
   "cell_type": "code",
   "execution_count": null,
   "id": "9d09e746",
   "metadata": {},
   "outputs": [
    {
     "name": "stdout",
     "output_type": "stream",
     "text": [
      "The autoreload extension is already loaded. To reload it, use:\n",
      "  %reload_ext autoreload\n"
     ]
    }
   ],
   "source": [
    "%load_ext autoreload\n",
    "%autoreload 2"
   ]
  },
  {
   "cell_type": "code",
   "execution_count": null,
   "id": "cad04cbb",
   "metadata": {},
   "outputs": [],
   "source": [
    "#| default_exp usage"
   ]
  },
  {
   "cell_type": "code",
   "execution_count": null,
   "id": "e2672633",
   "metadata": {},
   "outputs": [],
   "source": [
    "#| hide\n",
    "import sys\n",
    "from pathlib import Path\n",
    "\n",
    "project_root = Path.cwd().parent  # 根据实际位置可能需要调整\n",
    "sys.path.append(str(project_root))  # 添加项目根目录到 Python 路径\n",
    "\n",
    "# 现在可以正常导入\n",
    "from toolformer.core import say_hello"
   ]
  },
  {
   "cell_type": "code",
   "execution_count": null,
   "id": "72a7b1c1",
   "metadata": {},
   "outputs": [],
   "source": [
    "#| export\n",
    "def foo1(name):say_hello(name)\n",
    "foo1(\"ni\")"
   ]
  },
  {
   "cell_type": "code",
   "execution_count": null,
   "id": "1ec14935",
   "metadata": {},
   "outputs": [
    {
     "data": {
      "text/plain": [
       "'Hello, qian!'"
      ]
     },
     "execution_count": null,
     "metadata": {},
     "output_type": "execute_result"
    }
   ],
   "source": [
    "#| export\n",
    "class HelloSayer:\n",
    "    \"`say_hello` to someone\" \n",
    "    def __init__(self,to):self.to=to\n",
    "    def say(self):\n",
    "        \"do the saying\" \n",
    "        return say_hello(self.to)\n",
    "o=HelloSayer('qian')\n",
    "o.say()"
   ]
  }
 ],
 "metadata": {
  "kernelspec": {
   "display_name": "python3",
   "language": "python",
   "name": "python3"
  }
 },
 "nbformat": 4,
 "nbformat_minor": 5
}

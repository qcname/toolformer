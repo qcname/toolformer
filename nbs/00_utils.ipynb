{
 "cells": [
  {
   "cell_type": "code",
   "execution_count": null,
   "id": "14e4de66",
   "metadata": {},
   "outputs": [],
   "source": [
    "#| default_exp utils"
   ]
  },
  {
   "cell_type": "code",
   "execution_count": null,
   "id": "e482eed6",
   "metadata": {},
   "outputs": [],
   "source": [
    "#| hide\n",
    "from nbdev.showdoc import *"
   ]
  },
  {
   "cell_type": "code",
   "execution_count": null,
   "id": "95a0148f",
   "metadata": {},
   "outputs": [],
   "source": [
    "#| export\n",
    "import yaml\n",
    "import re\n",
    "from typing import Optional"
   ]
  },
  {
   "cell_type": "code",
   "execution_count": null,
   "id": "fc79a808",
   "metadata": {},
   "outputs": [],
   "source": [
    "#| export \n",
    "def yaml2dict(file_path):\n",
    "    with open(file_path,\"r\") as file:\n",
    "        data=yaml.safe_load(file)\n",
    "    return data"
   ]
  },
  {
   "cell_type": "code",
   "execution_count": null,
   "id": "8f6afd6a",
   "metadata": {},
   "outputs": [],
   "source": [
    "#| export \n",
    "def extract_api_content(text:str,api_name:str)->str:\n",
    "    \"\"\"从给定的文本中抽取出api请求\"\"\"\n",
    "    start_tag=f\"{api_name}(\"\n",
    "    end_tag=\")\"\n",
    "    start_idx=text.find(start_tag)\n",
    "    if start_idx==-1:\n",
    "        return None\n",
    "    start_idx+=len(start_tag)\n",
    "    end_idx=text.find(end_tag,start_idx)\n",
    "    if end_idx==-1:\n",
    "        return None\n",
    "    return text[start_idx:end_idx]"
   ]
  },
  {
   "cell_type": "code",
   "execution_count": null,
   "id": "c5688fab",
   "metadata": {},
   "outputs": [],
   "source": [
    "#| export\n",
    "def extract_api_syntax(text:str,api_name:str)->str:\n",
    "    \"\"\"抽取语法\"\"\"\n",
    "    pattern = r\"\\[{}\\(.*?\\)\\]\".format(api_name)\n",
    "    matches = re.findall(pattern, text)\n",
    "    return matches"
   ]
  },
  {
   "cell_type": "code",
   "execution_count": null,
   "id": "8578b362",
   "metadata": {},
   "outputs": [],
   "source": [
    "#| export\n",
    "def extract_api_name(text:str,is_end_token:bool=True)->Optional[str]:\n",
    "    if is_end_token:\n",
    "        pattern=r'\\[(\\w+)\\(.+\\]\\s?'\n",
    "    else:\n",
    "        pattern=r'\\[(\\w+)\\(.+\\s?'\n",
    "    match=re.search(pattern,text)\n",
    "    if match:\n",
    "        return match.group(1)\n",
    "    else:\n",
    "        return None"
   ]
  }
 ],
 "metadata": {
  "kernelspec": {
   "display_name": "python3",
   "language": "python",
   "name": "python3"
  }
 },
 "nbformat": 4,
 "nbformat_minor": 5
}

{
 "cells": [
  {
   "cell_type": "code",
   "execution_count": null,
   "id": "9d09e746",
   "metadata": {},
   "outputs": [],
   "source": [
    "%load_ext autoreload\n",
    "%autoreload 2"
   ]
  },
  {
   "cell_type": "code",
   "execution_count": null,
   "id": "cad04cbb",
   "metadata": {},
   "outputs": [],
   "source": [
    "#| default_exp usage"
   ]
  },
  {
   "cell_type": "code",
   "execution_count": null,
   "id": "e2672633",
   "metadata": {},
   "outputs": [
    {
     "name": "stdout",
     "output_type": "stream",
     "text": [
      "/home/qcnace/qc/table_rag/toolformer\n"
     ]
    }
   ],
   "source": [
    "#| hide\n",
    "import sys\n",
    "from pathlib import Path\n",
    "\n",
    "project_root = Path.cwd().parent  # 根据实际位置可能需要调整\n",
    "sys.path.append(str(project_root))  # 添加项目根目录到 Python 路径\n",
    "\n",
    "# 现在可以正常导入\n",
    "from toolformer.core import say_hello"
   ]
  },
  {
   "cell_type": "code",
   "execution_count": null,
   "id": "72a7b1c1",
   "metadata": {},
   "outputs": [],
   "source": [
    "#| export\n",
    "def foo1(name):say_hello(name)\n",
    "foo1(\"ni\")"
   ]
  }
 ],
 "metadata": {
  "kernelspec": {
   "display_name": "python3",
   "language": "python",
   "name": "python3"
  }
 },
 "nbformat": 4,
 "nbformat_minor": 5
}

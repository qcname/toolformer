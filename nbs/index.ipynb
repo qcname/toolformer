{
 "cells": [
  {
   "cell_type": "code",
   "execution_count": null,
   "metadata": {},
   "outputs": [],
   "source": [
    "#| hide\n",
    "from toolformer.core import *\n",
    "from nbdev import qmd"
   ]
  },
  {
   "cell_type": "markdown",
   "metadata": {},
   "source": [
    "# toolformer\n",
    "\n",
    "> toolformer-fork"
   ]
  },
  {
   "cell_type": "markdown",
   "metadata": {},
   "source": [
    "This file will become your README and also the index of your documentation."
   ]
  },
  {
   "cell_type": "markdown",
   "metadata": {},
   "source": [
    "## Developer Guide"
   ]
  },
  {
   "cell_type": "markdown",
   "metadata": {},
   "source": [
    "If you are new to using `nbdev` here are some useful pointers to get you started."
   ]
  },
  {
   "cell_type": "markdown",
   "metadata": {},
   "source": [
    "### Install toolformer in Development mode"
   ]
  },
  {
   "cell_type": "markdown",
   "metadata": {},
   "source": [
    "```sh\n",
    "# make sure toolformer package is installed in development mode\n",
    "$ pip install -e .\n",
    "\n",
    "# make changes under nbs/ directory\n",
    "# ...\n",
    "\n",
    "# compile to have changes apply to toolformer\n",
    "$ nbdev_prepare\n",
    "```"
   ]
  },
  {
   "cell_type": "markdown",
   "metadata": {},
   "source": [
    "## Usage"
   ]
  },
  {
   "cell_type": "markdown",
   "metadata": {},
   "source": [
    "### Installation"
   ]
  },
  {
   "cell_type": "markdown",
   "metadata": {},
   "source": [
    "Install latest from the GitHub [repository][repo]:\n",
    "\n",
    "```sh\n",
    "$ pip install git+https://github.com/qcname/toolformer.git\n",
    "```\n",
    "\n",
    "or from [conda][conda]\n",
    "\n",
    "```sh\n",
    "$ conda install -c qcname toolformer\n",
    "```\n",
    "\n",
    "or from [pypi][pypi]\n",
    "\n",
    "\n",
    "```sh\n",
    "$ pip install toolformer\n",
    "```\n",
    "\n",
    "\n",
    "[repo]: https://github.com/qcname/toolformer\n",
    "[docs]: https://qcname.github.io/toolformer/\n",
    "[pypi]: https://pypi.org/project/toolformer/\n",
    "[conda]: https://anaconda.org/qcname/toolformer"
   ]
  },
  {
   "cell_type": "markdown",
   "metadata": {},
   "source": [
    "### Documentation"
   ]
  },
  {
   "cell_type": "markdown",
   "metadata": {},
   "source": [
    "Documentation can be found hosted on this GitHub [repository][repo]'s [pages][docs]. Additionally you can find package manager specific guidelines on [conda][conda] and [pypi][pypi] respectively.\n",
    "\n",
    "[repo]: https://github.com/qcname/toolformer\n",
    "[docs]: https://qcname.github.io/toolformer/\n",
    "[pypi]: https://pypi.org/project/toolformer/\n",
    "[conda]: https://anaconda.org/qcname/toolformer"
   ]
  },
  {
   "cell_type": "markdown",
   "metadata": {},
   "source": [
    "## How to use"
   ]
  },
  {
   "cell_type": "markdown",
   "metadata": {},
   "source": [
    "Fill me in please! Don't forget code examples:"
   ]
  },
  {
   "cell_type": "code",
   "execution_count": null,
   "metadata": {},
   "outputs": [
    {
     "name": "stdout",
     "output_type": "stream",
     "text": [
      "||Name|Position|\n",
      "|-|---|----|\n",
      "|Chris Lattner|Inventor of Swift and LLVM|\n",
      "|Fernando Pérez|Creator of Jupyter|\n",
      "|David Berg|Software Engineer, Netflix|\n",
      "|Erik Gaasedelen|Software Engineer, Lyft|\n",
      "|Roxanna Pourzand|Product Manager, Transform|\n",
      "|Hugo Bowne-Anderson|Head of Developer Relations, Outerbounds|\n"
     ]
    }
   ],
   "source": [
    "#| echo: false\n",
    "#| output: asis\n",
    "testimonials = [\n",
    "    ('chris-lattner.png', 'Chris Lattner', 'Inventor of Swift and LLVM'),\n",
    "    ('fernando-pérez.jpeg', 'Fernando Pérez', 'Creator of Jupyter'),\n",
    "    ('david-berg.jpeg', 'David Berg', 'Software Engineer, Netflix'),\n",
    "    ('erik-gaasedelen.jpeg', 'Erik Gaasedelen', 'Software Engineer, Lyft'),\n",
    "    ('roxanna-pourzand.jpeg', 'Roxanna Pourzand', 'Product Manager, Transform'),\n",
    "    ('hugo-bowne-anderson.jpeg', 'Hugo Bowne-Anderson', 'Head of Developer Relations, Outerbounds')\n",
    "]\n",
    "\n",
    "print(qmd.tbl_row(['','Name','Position']))\n",
    "print(qmd.tbl_sep([1,3,4]))\n",
    "for fname,name,position in testimonials:\n",
    "    print(qmd.tbl_row([ name, position]))"
   ]
  },
  {
   "cell_type": "markdown",
   "metadata": {},
   "source": [
    ":::{.callout-note}\n",
    "Note that there are five types of callouts, including:\n",
    "`note`, `warning`, `important`, `tip`, and `caution`.\n",
    ":::"
   ]
  }
 ],
 "metadata": {
  "kernelspec": {
   "display_name": "python3",
   "language": "python",
   "name": "python3"
  }
 },
 "nbformat": 4,
 "nbformat_minor": 4
}

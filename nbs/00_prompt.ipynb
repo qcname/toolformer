{
 "cells": [
  {
   "cell_type": "code",
   "execution_count": null,
   "id": "7ac4f6dd",
   "metadata": {},
   "outputs": [],
   "source": [
    "#| default_exp prompt"
   ]
  },
  {
   "cell_type": "code",
   "execution_count": null,
   "id": "826db027",
   "metadata": {},
   "outputs": [],
   "source": [
    "#| hide\n",
    "from nbdev.showdoc import *\n"
   ]
  },
  {
   "cell_type": "code",
   "execution_count": null,
   "id": "7a210c9e",
   "metadata": {},
   "outputs": [],
   "source": [
    "#| export\n",
    "calculator_prompt = \"\"\"\n",
    "Your task is to add calls to a Calculator API to a piece of text. The API call should help you get information required to complete the text. \\n\n",
    "You can call the API by writing \"Calculator(operation)!\" where \"operation\" is the type of calculation you want to perform. Here are some examples of API calls:\n",
    "\n",
    "Input: John has 5 apples and his friend gave him 3 more. John now has 8 apples.\n",
    "Ouput: John has 5 apples and his friend gave him 3 more. John now has [Calculator(\"5 + 3\")] 8 apples.\n",
    "\n",
    "Input: Jane needs to divide 24 pieces of candy equally among 6 kids. Each kid will get 4 pieces of candy.\n",
    "Output: Jane needs to divide 24 pieces of candy equally among 6 kids. Each kid will get [Calculator(24 / 6)] 4 pieces of candy.\n",
    "\n",
    "Input: From this, we have 4 * 30 minutes = 120 minutes.\n",
    "Output: From this, we have 4 * 30 minutes = [Calculator(4 * 30)] 120 minutes.\n",
    "\n",
    "Input: {input}\n",
    "Output:\n",
    "\"\"\""
   ]
  },
  {
   "cell_type": "code",
   "execution_count": null,
   "id": "96099a20",
   "metadata": {},
   "outputs": [],
   "source": [
    "#| export\n",
    "qa_prompt = \"\"\"\n",
    "Your task is to add calls to a Question Answering API to a piece of text. The questions should help you get information required to complete the text.\n",
    "You can call the API by writing \"[QA(question)]\" where \"question\" is the question you want to ask. Here are some examples of API calls:\n",
    "\n",
    "Input: Joe Biden was born in Scranton, Pennsylvania.\n",
    "Output: Joe Biden was born in [QA(\"Where was Joe Biden born?\")] Scranton, [QA(\"In which state is Scranton?\")] Pennsylvania.\n",
    "\n",
    "Input: Coca-Cola, or Coke, is a carbonated soft drink manufactured by the Coca-Cola Company.\n",
    "Output: Coca-Cola, or [QA(\"What other name is Coca-Cola known by?\")] Coke, is a carbonated soft drink manufactured by [QA(\"Who manufactures Coca-Cola?\")] the Coca-Cola Company.\n",
    "\n",
    "Input: {input}\n",
    "Output:\n",
    "\"\"\""
   ]
  },
  {
   "cell_type": "code",
   "execution_count": null,
   "id": "109306f4",
   "metadata": {},
   "outputs": [],
   "source": [
    "#| export\n",
    "wolframe_prompt = \"\"\"\n",
    "Your task is to add calls to a Scientific API to a piece of text that related to chemistry, math, physics. The questions should help you get information required to complete the text.\n",
    "You can call the API by writing \"[Wolframe(question)]\" where \"question\" is the question you want to ask. Here are some examples of API calls:\n",
    "\n",
    "Input: The complex conjugate of 2 + 3i is 2 - 3i.\n",
    "Output: The complex conjugate of 2 + 3i is [Wolframe(\"What is the complex conjugate of 2 + 3i\")] 2 - 3i.\n",
    "\n",
    "Input: Solve x^2 + 4x + 6 = 0. The answer is x = -2 - i sqrt(2)\n",
    "Output: Solve x^2 + 4x + 6 = 0. The answer is [Wolframe(\"Solve x^2 + 4x + 6 = 0\")] x = -2 - i sqrt(2)\n",
    "\n",
    "Input: Given a sequence of numbers: 21.3, 38.4, 12.7, 41.6. The mean is 28.5\n",
    "Output: Given a sequence of numbers: 21.3, 38.4, 12.7, 41.6. The mean is [Wolframe(\"What is the mean of 21.3, 38.4, 12.7, 41.6\")] 28.5\n",
    "\n",
    "Input: {input}\n",
    "Output:\n",
    "\"\"\""
   ]
  }
 ],
 "metadata": {
  "kernelspec": {
   "display_name": "python3",
   "language": "python",
   "name": "python3"
  }
 },
 "nbformat": 4,
 "nbformat_minor": 5
}

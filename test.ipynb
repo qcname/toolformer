{
 "cells": [
  {
   "cell_type": "code",
   "execution_count": 1,
   "id": "6945e00d",
   "metadata": {},
   "outputs": [],
   "source": [
    "from transformers import AutoModelForCausalLM, AutoTokenizer\n",
    "\n",
    "from toolformer.data_generator import DataGenerator\n",
    "from toolformer.api import CalcuatorAPI\n",
    "from toolformer.prompt import calculator_prompt\n",
    "from toolformer.utils import yaml2dict"
   ]
  },
  {
   "cell_type": "code",
   "execution_count": 2,
   "id": "7bcf769d",
   "metadata": {},
   "outputs": [
    {
     "name": "stderr",
     "output_type": "stream",
     "text": [
      "2025-06-04 18:07:08.789474: I tensorflow/core/util/port.cc:113] oneDNN custom operations are on. You may see slightly different numerical results due to floating-point round-off errors from different computation orders. To turn them off, set the environment variable `TF_ENABLE_ONEDNN_OPTS=0`.\n",
      "2025-06-04 18:07:08.824855: E external/local_xla/xla/stream_executor/cuda/cuda_dnn.cc:9261] Unable to register cuDNN factory: Attempting to register factory for plugin cuDNN when one has already been registered\n",
      "2025-06-04 18:07:08.824904: E external/local_xla/xla/stream_executor/cuda/cuda_fft.cc:607] Unable to register cuFFT factory: Attempting to register factory for plugin cuFFT when one has already been registered\n",
      "2025-06-04 18:07:08.826568: E external/local_xla/xla/stream_executor/cuda/cuda_blas.cc:1515] Unable to register cuBLAS factory: Attempting to register factory for plugin cuBLAS when one has already been registered\n",
      "2025-06-04 18:07:08.835479: I tensorflow/core/platform/cpu_feature_guard.cc:182] This TensorFlow binary is optimized to use available CPU instructions in performance-critical operations.\n",
      "To enable the following instructions: AVX2 AVX_VNNI FMA, in other operations, rebuild TensorFlow with the appropriate compiler flags.\n",
      "2025-06-04 18:07:09.627337: W tensorflow/compiler/tf2tensorrt/utils/py_utils.cc:38] TF-TRT Warning: Could not find TensorRT\n",
      "/home/qcnace/anaconda3/envs/myenv/lib/python3.9/site-packages/torch/_utils.py:831: UserWarning: TypedStorage is deprecated. It will be removed in the future and UntypedStorage will be the only storage class. This should only matter to you if you are using storages directly.  To access UntypedStorage directly, use tensor.untyped_storage() instead of tensor.storage()\n",
      "  return self.fget.__get__(instance, owner)()\n"
     ]
    }
   ],
   "source": [
    "config = yaml2dict('configs/default.yaml')\n",
    "calculator_api = CalcuatorAPI(\n",
    "    \"Calculator\", calculator_prompt,\n",
    "    sampling_threshold=0.2, filtering_threshold=0.2\n",
    ")\n",
    "\n",
    "model = AutoModelForCausalLM.from_pretrained(\"./model\")\n",
    "tokenizer = AutoTokenizer.from_pretrained(\"./model\")"
   ]
  },
  {
   "cell_type": "code",
   "execution_count": 3,
   "id": "102028a5",
   "metadata": {},
   "outputs": [],
   "source": [
    "text = \"From this, we have 10 - 5 minutes = 5 minutes.\"\n",
    "apis = [calculator_api]\n",
    "generator = DataGenerator(config, model, tokenizer, apis=apis)"
   ]
  },
  {
   "cell_type": "code",
   "execution_count": 4,
   "id": "d857f604",
   "metadata": {},
   "outputs": [],
   "source": [
    "augumented_text_ids = generator.generate(text)"
   ]
  },
  {
   "cell_type": "code",
   "execution_count": 5,
   "id": "46ed6220",
   "metadata": {},
   "outputs": [
    {
     "name": "stdout",
     "output_type": "stream",
     "text": [
      "From this, we have 10 - 5 minutes = [Calculator(10 - 5)] 5 minutes.\n",
      "\n",
      "\n"
     ]
    }
   ],
   "source": [
    "print(tokenizer.decode(augumented_text_ids[0][0], skip_special_tokens=True))"
   ]
  }
 ],
 "metadata": {
  "kernelspec": {
   "display_name": "myenv",
   "language": "python",
   "name": "python3"
  },
  "language_info": {
   "codemirror_mode": {
    "name": "ipython",
    "version": 3
   },
   "file_extension": ".py",
   "mimetype": "text/x-python",
   "name": "python",
   "nbconvert_exporter": "python",
   "pygments_lexer": "ipython3",
   "version": "3.9.19"
  }
 },
 "nbformat": 4,
 "nbformat_minor": 5
}
